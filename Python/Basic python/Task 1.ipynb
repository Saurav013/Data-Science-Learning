{
  "cells": [
    {
      "cell_type": "markdown",
      "metadata": {
        "id": "A05OG15VqOPF"
      },
      "source": [
        "# Task : Session 1\n",
        "Solve these questions own your own and try to test yourself what you have learned in the session.\n",
        "\n",
        "Happy Learning!"
      ]
    },
    {
      "cell_type": "markdown",
      "metadata": {
        "id": "2doIXf8bqe9_"
      },
      "source": [
        "### Q1 :- Print the given strings as per stated format.\n",
        "\n",
        "**Given strings**:\n",
        "```\n",
        "\"Data\" \"Science\" \"Mentorship\" \"Program\"\n",
        "\"By\" \"CampusX\"\n",
        "```\n",
        "**Output**:\n",
        "```\n",
        "Data-Science-Mentorship-Program-started-By-CampusX\n",
        "```\n",
        "\n",
        "Concept- [Seperator and End]"
      ]
    },
    {
      "cell_type": "code",
      "execution_count": null,
      "metadata": {
        "id": "-em6d3KErDtp"
      },
      "outputs": [
        {
          "name": "stdout",
          "output_type": "stream",
          "text": [
            "Data-Science-Mentorship-Program-Start-By-CampusX\n"
          ]
        }
      ],
      "source": [
        "# Write your code here\n",
        "print('Data',end='-')\n",
        "print('Science',end='-')\n",
        "print('Mentorship',end='-')\n",
        "print('Program',end='-')\n",
        "print('Start',end='-')\n",
        "print('By',end='-')\n",
        "print('CampusX')"
      ]
    },
    {
      "cell_type": "markdown",
      "metadata": {
        "id": "1KUpN7ZTrC3_"
      },
      "source": [
        "### Q2:- Write a program that will convert celsius value to fahrenheit."
      ]
    },
    {
      "cell_type": "code",
      "execution_count": 2,
      "metadata": {
        "id": "yxKYhYQiqWfj"
      },
      "outputs": [
        {
          "name": "stdout",
          "output_type": "stream",
          "text": [
            "65.2°C is equal to 149.36°F\n"
          ]
        }
      ],
      "source": [
        "# Write your code here\n",
        "# Taking input from the user\n",
        "celsius_input = input(\"Enter temperature in Celsius: \").strip()\n",
        "\n",
        "# Validate input\n",
        "if not celsius_input:\n",
        "    print(\"Error: Please enter a valid number.\")\n",
        "else:\n",
        "    celsius = float(celsius_input)  # Convert to float\n",
        "    fahrenheit = (celsius * 9/5) + 32  # Convert to Fahrenheit\n",
        "    print(f\"{celsius}°C is equal to {fahrenheit}°F\")\n"
      ]
    },
    {
      "cell_type": "markdown",
      "metadata": {
        "id": "RLrOBBJurLB2"
      },
      "source": [
        "### Q3:- Take 2 numbers as input from the user.Write a program to swap the numbers without using any special python syntax."
      ]
    },
    {
      "cell_type": "code",
      "execution_count": 3,
      "metadata": {
        "id": "yPn7if0TrJ4F"
      },
      "outputs": [
        {
          "name": "stdout",
          "output_type": "stream",
          "text": [
            "Before swapping: a = 4, b = 5\n",
            "After swapping: a = 5, b = 4\n"
          ]
        }
      ],
      "source": [
        "# Write your code here\n",
        "\n",
        "# Take input from the user\n",
        "a = int(input(\"Enter first number: \"))\n",
        "b = int(input(\"Enter second number: \"))\n",
        "\n",
        "print(f\"Before swapping: a = {a}, b = {b}\")\n",
        "\n",
        "# Swapping using arithmetic operations\n",
        "a = a + b\n",
        "b = a - b\n",
        "a = a - b\n",
        "\n",
        "print(f\"After swapping: a = {a}, b = {b}\")\n"
      ]
    },
    {
      "cell_type": "markdown",
      "metadata": {
        "id": "waLCP1bjr7ML"
      },
      "source": [
        "### Q4:- Write a program to find the euclidean distance between two coordinates.Take both the coordinates from the user as input."
      ]
    },
    {
      "cell_type": "code",
      "execution_count": null,
      "metadata": {
        "id": "Pl1Sv-xnrxnH"
      },
      "outputs": [],
      "source": [
        "# Write your code here"
      ]
    },
    {
      "cell_type": "markdown",
      "metadata": {
        "id": "VLrhg-FRsHjR"
      },
      "source": [
        "### Q5:- Write a program to find the simple interest when the value of principle,rate of interest and time period is provided by the user.\n"
      ]
    },
    {
      "cell_type": "code",
      "execution_count": 2,
      "metadata": {
        "id": "s40DlReZsTmY"
      },
      "outputs": [
        {
          "name": "stdout",
          "output_type": "stream",
          "text": [
            "Simple Interest: ₹64.00\n"
          ]
        }
      ],
      "source": [
        "# Take input from user\n",
        "try:\n",
        "    principal = float(input(\"Enter the Principal Amount: \"))\n",
        "    rate = float(input(\"Enter the Rate of Interest (in %): \"))\n",
        "    time = int(input(\"Enter the Duration (in years): \"))\n",
        "\n",
        "    # Validate input\n",
        "    if principal < 0 or rate < 0 or time < 0:\n",
        "        print(\"Error: Principal, rate, and time must be non-negative values.\")\n",
        "    else:\n",
        "        # Calculate simple interest\n",
        "        simple_interest = (principal * rate * time) / 100\n",
        "\n",
        "        # Display result with 2 decimal places\n",
        "        print(f\"Simple Interest: ₹{simple_interest:.2f}\")\n",
        "except ValueError:\n",
        "    print(\"Invalid input! Please enter numerical values.\")\n"
      ]
    },
    {
      "cell_type": "markdown",
      "metadata": {
        "id": "LMy0BTUktYKa"
      },
      "source": [
        "### Q6:- Write a program that will tell the number of dogs and chicken are there when the user will provide the value of total heads and legs.\n",
        "\n",
        "For example:\n",
        "Input:\n",
        "heads -> 4\n",
        "legs -> 12\n",
        "<br>\n",
        "Output:\n",
        "dogs -> 2\n",
        "chicken -> 2\n",
        "\n",
        "\n",
        "\n"
      ]
    },
    {
      "cell_type": "code",
      "execution_count": 1,
      "metadata": {
        "id": "XSBvJoA4tXaG"
      },
      "outputs": [
        {
          "name": "stdout",
          "output_type": "stream",
          "text": [
            "Number of Chickens: 2\n",
            "Number of Dogs: 2\n"
          ]
        }
      ],
      "source": [
        "# Write your code here\n",
        "# Take input from the user\n",
        "heads = int(input(\"Enter the total number of heads: \"))\n",
        "legs = int(input(\"Enter the total number of legs: \"))\n",
        "\n",
        "# Solve for chickens (c) and dogs (d)\n",
        "# Using equations:\n",
        "# c + d = heads\n",
        "# 2c + 4d = legs\n",
        "\n",
        "# Check if the given input is logically possible\n",
        "if legs % 2 != 0 or heads > legs // 2:\n",
        "    print(\"Invalid input! The number of heads and legs do not match real animals.\")\n",
        "else:\n",
        "    chickens = (2 * heads - legs // 2)\n",
        "    dogs = heads - chickens\n",
        "\n",
        "    # Check for negative values (invalid case)\n",
        "    if chickens < 0 or dogs < 0:\n",
        "        print(\"No valid solution exists with the given heads and legs.\")\n",
        "    else:\n",
        "        print(f\"Number of Chickens: {chickens}\")\n",
        "        print(f\"Number of Dogs: {dogs}\")\n"
      ]
    },
    {
      "cell_type": "markdown",
      "metadata": {
        "id": "gJ7C5kZYt4BP"
      },
      "source": [
        "### Q7:- Write a program to find the sum of squares of first n natural numbers where n will be provided by the user."
      ]
    },
    {
      "cell_type": "code",
      "execution_count": 3,
      "metadata": {
        "id": "_tHsmEHzt2nX"
      },
      "outputs": [
        {
          "name": "stdout",
          "output_type": "stream",
          "text": [
            "Sum of squares of first 10 natural numbers: 385\n"
          ]
        }
      ],
      "source": [
        "# Write your code here\n",
        "# Take Input from User\n",
        "\n",
        "n = int(input('Enter the value of n : '))\n",
        "\n",
        "# Validate input\n",
        "\n",
        "if n < 1:\n",
        "    print(\"Please enter the positive integer.\")\n",
        "else:\n",
        "    # Calculate the sum of squares using formula\n",
        "\n",
        "    sum_of_squares = (n * (n + 1) * (2 * n + 1)) // 6\n",
        "    print(f\"Sum of squares of first {n} natural numbers: {sum_of_squares}\")"
      ]
    },
    {
      "cell_type": "markdown",
      "metadata": {
        "id": "FHrMM7g-yG1h"
      },
      "source": [
        "### Q8:- Given the first 2 terms of an Arithmetic Series.Find the Nth term of the series. Assume all inputs are provided by the user."
      ]
    },
    {
      "cell_type": "code",
      "execution_count": null,
      "metadata": {
        "id": "go4_kmZmyVSx"
      },
      "outputs": [],
      "source": [
        "# Write your code here"
      ]
    },
    {
      "cell_type": "markdown",
      "metadata": {
        "id": "QgyRX_es1oum"
      },
      "source": [
        "### Q9:- Given 2 fractions, find the sum of those 2 fractions.Take the numerator and denominator values of the fractions from the user."
      ]
    },
    {
      "cell_type": "code",
      "execution_count": null,
      "metadata": {
        "id": "X05xqFS1yW16"
      },
      "outputs": [],
      "source": [
        "# Write your code here"
      ]
    },
    {
      "cell_type": "markdown",
      "metadata": {
        "id": "eaql38ln13u7"
      },
      "source": [
        "### Q10:- Given the height, width and breadth of a milk tank, you have to find out how many glasses of milk can be obtained? Assume all the inputs are provided by the user.\n",
        "\n",
        "\n",
        "\n",
        "Input:<br>\n",
        "Dimensions of the milk tank<br>\n",
        "H = 20cm, L = 20cm, B = 20cm\n",
        "<br><br>\n",
        "Dimensions of the glass<br>\n",
        "h = 3cm, r = 1cm"
      ]
    },
    {
      "cell_type": "code",
      "execution_count": 4,
      "metadata": {
        "id": "FePZqno74eWv"
      },
      "outputs": [
        {
          "name": "stdout",
          "output_type": "stream",
          "text": [
            "Number of glasses that can be filled: 848\n"
          ]
        }
      ],
      "source": [
        "# Write your code here\n",
        "\n",
        "import math\n",
        "\n",
        "# Take input from User\n",
        "H = float(input(\"Enter the height of the milk tank (cm): \"))\n",
        "L = float(input(\"Enter the length of the milk tank (cm): \"))\n",
        "B = float(input(\"Enter the breadth of the milk tank (cm): \"))\n",
        "\n",
        "h = float(input(\"Enter the height of the glass (cm): \"))\n",
        "r = float(input(\"Enter the radius of the glass (cm): \"))\n",
        "\n",
        "# Calculate volumes\n",
        "V_tank = H * L * B  # Volume of tank (cuboid)\n",
        "V_glass = math.pi * (r ** 2) * h  # Volume of glass (cylinder)\n",
        "\n",
        "# Calculate the number of glasses that can be filled\n",
        "num_glasses = V_tank // V_glass  # Integer division to get whole glasses\n",
        "\n",
        "print(f\"Number of glasses that can be filled: {int(num_glasses)}\")\n"
      ]
    }
  ],
  "metadata": {
    "colab": {
      "provenance": []
    },
    "kernelspec": {
      "display_name": "Python 3",
      "name": "python3"
    },
    "language_info": {
      "codemirror_mode": {
        "name": "ipython",
        "version": 3
      },
      "file_extension": ".py",
      "mimetype": "text/x-python",
      "name": "python",
      "nbconvert_exporter": "python",
      "pygments_lexer": "ipython3",
      "version": "3.13.2"
    }
  },
  "nbformat": 4,
  "nbformat_minor": 0
}
