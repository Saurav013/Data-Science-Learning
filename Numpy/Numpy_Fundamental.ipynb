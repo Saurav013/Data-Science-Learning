{
  "cells": [
    {
      "cell_type": "markdown",
      "metadata": {
        "id": "w1_06gx60ocl"
      },
      "source": [
        "### **What is numpy?**\n",
        "NumPy is the fundamental package for scientific computing in Python. It is a Python library that provides a multidimensional array object, various derived objects (such as masked arrays and matrices), and an assortment of routines for fast operations on arrays, including mathematical, logical, shape manipulation, sorting, selecting, I/O, discrete Fourier transforms, basic linear algebra, basic statistical operations, random simulation and much more.\n",
        "\n",
        "At the core of the NumPy package, is the ndarray object. This encapsulates n-dimensional arrays of homogeneous data types."
      ]
    },
    {
      "cell_type": "markdown",
      "metadata": {
        "id": "r62EbJMq0GKv"
      },
      "source": [
        "### **Numpy Arrays Vs Python Sequences**\n",
        "\n",
        "- NumPy arrays have a fixed size at creation, unlike Python lists (which can grow dynamically). Changing the size of an ndarray will create a new array and delete the original.\n",
        "\n",
        "- The elements in a NumPy array are all required to be of the same data type, and thus will be the same size in memory.\n",
        "\n",
        "- NumPy arrays facilitate advanced mathematical and other types of operations on large numbers of data. Typically, such operations are executed more efficiently and with less code than is possible using Python’s built-in sequences.\n",
        "\n",
        "- A growing plethora of scientific and mathematical Python-based packages are using NumPy arrays; though these typically support Python-sequence input, they convert such input to NumPy arrays prior to processing, and they often output NumPy arrays."
      ]
    },
    {
      "cell_type": "markdown",
      "metadata": {
        "id": "ZyQXGjlq0XBI"
      },
      "source": [
        "### Basic Revision"
      ]
    },
    {
      "cell_type": "code",
      "execution_count": null,
      "metadata": {
        "colab": {
          "base_uri": "https://localhost:8080/"
        },
        "id": "bfxigkQ90vzJ",
        "outputId": "9b8f78a9-f90d-45da-c367-3de45321255d"
      },
      "outputs": [
        {
          "name": "stdout",
          "output_type": "stream",
          "text": [
            "Enter the age : 45\n",
            "You are adult\n"
          ]
        }
      ],
      "source": [
        "age = int(input('Enter the age : '))\n",
        "\n",
        "if age >= 18:\n",
        "  print('You are adult')\n",
        "else:\n",
        "  print('You are minor')"
      ]
    },
    {
      "cell_type": "code",
      "execution_count": null,
      "metadata": {
        "colab": {
          "base_uri": "https://localhost:8080/"
        },
        "id": "3pqdOlMk9hdu",
        "outputId": "a6d38e67-ca89-4e06-ef5e-a7a914a9527b"
      },
      "outputs": [
        {
          "name": "stdout",
          "output_type": "stream",
          "text": [
            "Iteration : 1\n",
            "Iteration : 2\n",
            "Iteration : 3\n",
            "Iteration : 4\n",
            "Iteration : 5\n"
          ]
        }
      ],
      "source": [
        "for i in range(1,6):\n",
        "  print('Iteration :',i)"
      ]
    },
    {
      "cell_type": "markdown",
      "metadata": {
        "id": "negsffn_Anmh"
      },
      "source": [
        "## Creating Numpy Arrays"
      ]
    },
    {
      "cell_type": "code",
      "execution_count": 2,
      "metadata": {
        "colab": {
          "base_uri": "https://localhost:8080/"
        },
        "id": "h5wkyLFmAi1y",
        "outputId": "c636e819-2b89-4533-ecf0-545a956576b8"
      },
      "outputs": [
        {
          "name": "stdout",
          "output_type": "stream",
          "text": [
            "[1 2 3 4 5]\n",
            "[1 2 3]\n",
            "<class 'numpy.ndarray'>\n"
          ]
        }
      ],
      "source": [
        "# Creating Numpy\n",
        "# np.array\n",
        "\n",
        "import numpy as np\n",
        "\n",
        "b = np.array([1,2,3])\n",
        "\n",
        "a = np.array([1,2,3,4,5])\n",
        "print(a)\n",
        "print(b)\n",
        "print(type(a))"
      ]
    },
    {
      "cell_type": "code",
      "execution_count": 3,
      "metadata": {
        "colab": {
          "base_uri": "https://localhost:8080/"
        },
        "id": "czoxzZshB8Az",
        "outputId": "d475aeaf-c3cf-4152-8e2b-d6b303227608"
      },
      "outputs": [
        {
          "name": "stdout",
          "output_type": "stream",
          "text": [
            "[1 3 5]\n"
          ]
        }
      ],
      "source": [
        "np.array([1,3,4])\n",
        "a = np.array([1,3,5])\n",
        "print(a)"
      ]
    },
    {
      "cell_type": "code",
      "execution_count": 4,
      "metadata": {
        "colab": {
          "base_uri": "https://localhost:8080/"
        },
        "id": "rNKYgJUKCRyP",
        "outputId": "e8cb83f5-4ae9-48a1-d425-fd4ec0e1d815"
      },
      "outputs": [
        {
          "name": "stdout",
          "output_type": "stream",
          "text": [
            "First 2D array [[1 2 3]\n",
            " [4 5 6]]\n",
            "Second 2D array :  [[12 23 12]\n",
            " [20 40 60]]\n"
          ]
        }
      ],
      "source": [
        "# 2D array\n",
        "\n",
        "a = np.array([[1,2,3],[4,5,6]])\n",
        "print('First 2D array' , a)\n",
        "\n",
        "b = np.array([[12,23,12],[20,40,60]])\n",
        "print('Second 2D array : ', b)"
      ]
    },
    {
      "cell_type": "code",
      "execution_count": 8,
      "metadata": {
        "colab": {
          "base_uri": "https://localhost:8080/"
        },
        "id": "KF0eSNPqwxVf",
        "outputId": "d7a4c3eb-2dae-4f0b-b33d-ccb80b89382c"
      },
      "outputs": [
        {
          "name": "stdout",
          "output_type": "stream",
          "text": [
            "[1. 2. 3.]\n",
            "[ True  True  True]\n",
            "[1.+0.j 2.+0.j 3.+0.j]\n"
          ]
        }
      ],
      "source": [
        "# dtype function\n",
        "# np.array([],dtype = float/bool/complex...)\n",
        "\n",
        "a = np.array([1,2,3],dtype = float)\n",
        "print(a)\n",
        "b = np.array([1,2,3],dtype = bool)\n",
        "print(b)\n",
        "c = np.array([1,2,3],dtype = complex)\n",
        "print(c)"
      ]
    },
    {
      "cell_type": "code",
      "execution_count": 12,
      "metadata": {
        "colab": {
          "base_uri": "https://localhost:8080/"
        },
        "id": "q-_rA-OnyFVW",
        "outputId": "cbc9828d-1827-47f0-d7f2-c5268d7ca753"
      },
      "outputs": [
        {
          "name": "stdout",
          "output_type": "stream",
          "text": [
            "[ 1  2  3  4  5  6  7  8  9 10]\n",
            "[1 3 5 7 9]\n"
          ]
        }
      ],
      "source": [
        "# np.arange()\n",
        "\n",
        "a = np.arange(1,11)\n",
        "print(a)\n",
        "\n",
        "b = np.arange(1,11,2)\n",
        "print(b)"
      ]
    },
    {
      "cell_type": "code",
      "execution_count": 22,
      "metadata": {
        "colab": {
          "base_uri": "https://localhost:8080/"
        },
        "id": "sfJJYRu1y7ta",
        "outputId": "78fb505d-fbd6-4245-a4e8-df3942a9c8c0"
      },
      "outputs": [
        {
          "name": "stdout",
          "output_type": "stream",
          "text": [
            "[[ 1  2  3  4  5]\n",
            " [ 6  7  8  9 10]]\n",
            "[[ 1  2]\n",
            " [ 3  4]\n",
            " [ 5  6]\n",
            " [ 7  8]\n",
            " [ 9 10]]\n",
            "[[ 1  2  3  4]\n",
            " [ 5  6  7  8]\n",
            " [ 9 10 11 12]]\n",
            "[[[[ 0  1]\n",
            "   [ 2  3]]\n",
            "\n",
            "  [[ 4  5]\n",
            "   [ 6  7]]]\n",
            "\n",
            "\n",
            " [[[ 8  9]\n",
            "   [10 11]]\n",
            "\n",
            "  [[12 13]\n",
            "   [14 15]]]]\n"
          ]
        }
      ],
      "source": [
        "# reshape\n",
        "a = np.arange(1,11).reshape(2,5)\n",
        "print(a)\n",
        "\n",
        "b = np.arange(1,11).reshape(5,2)\n",
        "print(b)\n",
        "\n",
        "c = np.arange(1,13).reshape(3,4)\n",
        "print(c)\n",
        "\n",
        "d = np.arange(16).reshape(2,2,2,2)\n",
        "print(d)"
      ]
    },
    {
      "cell_type": "code",
      "execution_count": 28,
      "metadata": {
        "colab": {
          "base_uri": "https://localhost:8080/"
        },
        "id": "G7H3Z6z41Rxx",
        "outputId": "c5c09191-f893-4e74-8d1b-169d9ecc731e"
      },
      "outputs": [
        {
          "name": "stdout",
          "output_type": "stream",
          "text": [
            "Matrix Having only ones :  [[1. 1. 1. 1.]\n",
            " [1. 1. 1. 1.]\n",
            " [1. 1. 1. 1.]]\n",
            "Matrix Having only zeroes :  [[0. 0. 0. 0. 0.]\n",
            " [0. 0. 0. 0. 0.]\n",
            " [0. 0. 0. 0. 0.]\n",
            " [0. 0. 0. 0. 0.]]\n",
            "Vector Having initial value 1 :  [[1. 1. 1. 1. 1.]]\n"
          ]
        }
      ],
      "source": [
        "# np.ones and # np.zeroes -> This function is used for creating the vector or\n",
        "# matrix of only ones or zeroes\n",
        "\n",
        "# Basically,this function is used to initialised the vector or matrix with one & zero\n",
        "a = np.ones((3,4))\n",
        "print(\"Matrix Having only ones : \", a)\n",
        "\n",
        "b = np.zeros((4,5))\n",
        "print(\"Matrix Having only zeroes : \", b)\n",
        "\n",
        "c = np.ones((1,5))\n",
        "print(\"Vector Having initial value 1 : \", c)"
      ]
    },
    {
      "cell_type": "code",
      "execution_count": 30,
      "metadata": {
        "colab": {
          "base_uri": "https://localhost:8080/"
        },
        "id": "xZX7LvU728br",
        "outputId": "48290bff-fd45-4036-cabc-9693f6db03b3"
      },
      "outputs": [
        {
          "name": "stdout",
          "output_type": "stream",
          "text": [
            "[[0.98343718 0.95555058 0.38866037 0.38930804]\n",
            " [0.61386598 0.20205277 0.0533476  0.81009453]\n",
            " [0.3969536  0.75680846 0.38471836 0.88632382]]\n"
          ]
        }
      ],
      "source": [
        "# np.random() -> This is used to initialised matrix or vector with random number b/w 0-1\n",
        "\n",
        "a = np.random.random((3,4))\n",
        "print(a)"
      ]
    },
    {
      "cell_type": "code",
      "execution_count": 33,
      "metadata": {
        "colab": {
          "base_uri": "https://localhost:8080/"
        },
        "id": "Uj1GVzAP31zw",
        "outputId": "1ba54a3b-d4e9-4193-e608-31e045496f52"
      },
      "outputs": [
        {
          "name": "stdout",
          "output_type": "stream",
          "text": [
            "[-10.          -7.77777778  -5.55555556  -3.33333333  -1.11111111\n",
            "   1.11111111   3.33333333   5.55555556   7.77777778  10.        ]\n"
          ]
        }
      ],
      "source": [
        "# np.linspace() -> linearly space function() means it generate the equi distance point b/w the range\n",
        "\n",
        "#   np.linspace(start,end,no_of_points)\n",
        "\n",
        "a = np.linspace(-10,10,10)\n",
        "print(a)"
      ]
    },
    {
      "cell_type": "code",
      "execution_count": 34,
      "metadata": {
        "colab": {
          "base_uri": "https://localhost:8080/"
        },
        "id": "XLepUaBo46og",
        "outputId": "5574aebf-b136-42be-dcd9-c9ec4ad603c3"
      },
      "outputs": [
        {
          "data": {
            "text/plain": [
              "array([[1., 0., 0.],\n",
              "       [0., 1., 0.],\n",
              "       [0., 0., 1.]])"
            ]
          },
          "execution_count": 34,
          "metadata": {},
          "output_type": "execute_result"
        }
      ],
      "source": [
        "# np.identity() -> identity matrix whose diagonal matrix is 1 where as all is 0\n",
        "\n",
        "np.identity(3)"
      ]
    },
    {
      "cell_type": "markdown",
      "metadata": {
        "id": "iwPiDI4y5Of9"
      },
      "source": [
        "### Array Attributes"
      ]
    },
    {
      "cell_type": "code",
      "execution_count": 42,
      "metadata": {
        "colab": {
          "base_uri": "https://localhost:8080/"
        },
        "id": "L30rIhUH5R33",
        "outputId": "524de275-c01a-47fe-83f6-9b1c32289b5e"
      },
      "outputs": [
        {
          "name": "stdout",
          "output_type": "stream",
          "text": [
            "[0 1 2 3 4 5 6 7 8 9]\n",
            "[[ 0.  1.  2.  3.]\n",
            " [ 4.  5.  6.  7.]\n",
            " [ 8.  9. 10. 11.]]\n",
            "[[[0 1]\n",
            "  [2 3]]\n",
            "\n",
            " [[4 5]\n",
            "  [6 7]]]\n"
          ]
        }
      ],
      "source": [
        "a1 = np.arange(10)\n",
        "a2 = np.arange(12,dtype=float).reshape(3,4)\n",
        "a3 = np.arange(8).reshape(2,2,2)\n",
        "\n",
        "print(a1)\n",
        "print(a2)\n",
        "print(a3)"
      ]
    },
    {
      "cell_type": "code",
      "execution_count": 43,
      "metadata": {
        "colab": {
          "base_uri": "https://localhost:8080/"
        },
        "id": "awoTAjr87wWf",
        "outputId": "f54c27c0-3dde-46f6-f0e9-4f4f1d861245"
      },
      "outputs": [
        {
          "name": "stdout",
          "output_type": "stream",
          "text": [
            "1\n",
            "2\n",
            "3\n"
          ]
        }
      ],
      "source": [
        "# ndim -> numpy attribute which is used to find the dimension of numpy.\n",
        "\n",
        "print(a1.ndim)\n",
        "print(a2.ndim)\n",
        "print(a3.ndim)"
      ]
    },
    {
      "cell_type": "code",
      "execution_count": 47,
      "metadata": {
        "colab": {
          "base_uri": "https://localhost:8080/"
        },
        "id": "qlMUlecqKzXS",
        "outputId": "86f15574-c69f-475a-9ebc-6dce7734ed35"
      },
      "outputs": [
        {
          "name": "stdout",
          "output_type": "stream",
          "text": [
            "(10,)\n",
            "(3, 4)\n",
            "(2, 2, 2)\n"
          ]
        }
      ],
      "source": [
        "# shape -> it returns the shape of vector/matrix\n",
        "print(a1.shape)\n",
        "print(a2.shape)\n",
        "print(a3.shape)"
      ]
    },
    {
      "cell_type": "code",
      "execution_count": 49,
      "metadata": {
        "colab": {
          "base_uri": "https://localhost:8080/"
        },
        "id": "KcpP3VTfMon-",
        "outputId": "1d813807-4404-44f0-dab1-a929528f5525"
      },
      "outputs": [
        {
          "name": "stdout",
          "output_type": "stream",
          "text": [
            "10\n",
            "12\n",
            "8\n"
          ]
        }
      ],
      "source": [
        "# size -> no. of items in the vector/matrix\n",
        "\n",
        "print(a1.size)\n",
        "print(a2.size)\n",
        "print(a3.size)"
      ]
    },
    {
      "cell_type": "code",
      "execution_count": 54,
      "metadata": {
        "colab": {
          "base_uri": "https://localhost:8080/"
        },
        "id": "v-6Aro6tND-E",
        "outputId": "87ed37a6-f61c-4837-cdfa-6f079bb6c020"
      },
      "outputs": [
        {
          "name": "stdout",
          "output_type": "stream",
          "text": [
            "8\n",
            "8\n",
            "8\n",
            "[ 1  2  3  4  5  6  7  8  9 10]\n",
            "4\n"
          ]
        }
      ],
      "source": [
        "# itemsize -> it gives the size of each item in memory\n",
        "\n",
        "print(a1.itemsize)\n",
        "print(a2.itemsize)\n",
        "print(a3.itemsize)\n",
        "\n",
        "# itemsize of int32 is 4 bits\n",
        "b1 = np.arange(1,11,dtype=np.int32)\n",
        "print(b1)\n",
        "print(b1.itemsize)"
      ]
    },
    {
      "cell_type": "code",
      "execution_count": 55,
      "metadata": {
        "colab": {
          "base_uri": "https://localhost:8080/"
        },
        "id": "seytC6ttOY9i",
        "outputId": "687eb152-5b3b-4a38-85cd-c8c67bd4c6f0"
      },
      "outputs": [
        {
          "name": "stdout",
          "output_type": "stream",
          "text": [
            "int64\n",
            "float64\n",
            "int64\n",
            "int32\n"
          ]
        }
      ],
      "source": [
        "# dtype -> gives the data type of the matrix/vector\n",
        "\n",
        "print(a1.dtype)\n",
        "print(a2.dtype)\n",
        "print(a3.dtype)\n",
        "print(b1.dtype)"
      ]
    },
    {
      "cell_type": "markdown",
      "metadata": {
        "id": "0tI2OuxmOun9"
      },
      "source": [
        "### Changing Datatype\n"
      ]
    },
    {
      "cell_type": "code",
      "execution_count": null,
      "metadata": {
        "id": "o9ZDeV71Oxx0"
      },
      "outputs": [],
      "source": []
    }
  ],
  "metadata": {
    "colab": {
      "provenance": []
    },
    "kernelspec": {
      "display_name": "Python 3",
      "name": "python3"
    },
    "language_info": {
      "name": "python"
    }
  },
  "nbformat": 4,
  "nbformat_minor": 0
}
